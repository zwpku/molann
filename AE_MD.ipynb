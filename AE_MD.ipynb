{
 "cells": [
  {
   "cell_type": "code",
   "execution_count": 2,
   "id": "4d607a58",
   "metadata": {},
   "outputs": [
    {
     "data": {
      "application/vnd.jupyter.widget-view+json": {
       "model_id": "d4318807653144f881a0ef7e90411169",
       "version_major": 2,
       "version_minor": 0
      },
      "text/plain": []
     },
     "metadata": {},
     "output_type": "display_data"
    }
   ],
   "source": [
    "import numpy as np\n",
    "import matplotlib.pyplot as plt\n",
    "import torch\n",
    "import math \n",
    "import random\n",
    "from sklearn.model_selection import train_test_split \n",
    "\n",
    "import MDAnalysis as mda\n",
    "from MDAnalysis.analysis import dihedrals, rms, align\n",
    "import nglview as nv\n",
    "import pandas as pd\n",
    "from tqdm import tqdm\n",
    "from tensorboardX import SummaryWriter\n",
    "import os\n",
    "import time"
   ]
  },
  {
   "cell_type": "markdown",
   "id": "384f43f1",
   "metadata": {},
   "source": [
    "## Part 1: prepare MD data\n",
    "#### 1.1. show some information"
   ]
  },
  {
   "cell_type": "code",
   "execution_count": 3,
   "id": "9629f51a",
   "metadata": {
    "lines_to_end_of_cell_marker": 2,
    "lines_to_next_cell": 2
   },
   "outputs": [
    {
     "name": "stderr",
     "output_type": "stream",
     "text": [
      "Warning: importing 'simtk.openmm' is deprecated.  Import 'openmm' instead.\n"
     ]
    },
    {
     "name": "stdout",
     "output_type": "stream",
     "text": [
      "\n",
      "MD system:\n",
      "\tno. of atoms: 22\n",
      "\tno. of residues: 3\n",
      "\n",
      "Detailed atom information:\n",
      "     id  name type    mass resid resname\n",
      "0    1  1HH3    H   1.008     1     ACE\n",
      "1    2   CH3    C  12.011     1     ACE\n",
      "2    3  2HH3    H   1.008     1     ACE\n",
      "3    4  3HH3    H   1.008     1     ACE\n",
      "4    5     C    C  12.011     1     ACE\n",
      "5    6     O    O  15.999     1     ACE\n",
      "6    7     N    N  14.007     2     ALA\n",
      "7    8     H    H   1.008     2     ALA\n",
      "8    9    CA    C  12.011     2     ALA\n",
      "9   10    HA    H   1.008     2     ALA\n",
      "10  11    CB    C  12.011     2     ALA\n",
      "11  12   1HB    H   1.008     2     ALA\n",
      "12  13   2HB    H   1.008     2     ALA\n",
      "13  14   3HB    H   1.008     2     ALA\n",
      "14  15     C    C  12.011     2     ALA\n",
      "15  16     O    O  15.999     2     ALA\n",
      "16  17     N    N  14.007     3     NME\n",
      "17  18     H    H   1.008     3     NME\n",
      "18  19   CH3    C  12.011     3     NME\n",
      "19  20  1HH3    H   1.008     3     NME\n",
      "20  21  2HH3    H   1.008     3     NME\n",
      "21  22  3HH3    H   1.008     3     NME\n",
      "\n",
      "Summary:\n",
      "   type  counts\n",
      "0    H      12\n",
      "1    C       6\n",
      "2    O       2\n",
      "3    N       2\n"
     ]
    },
    {
     "name": "stderr",
     "output_type": "stream",
     "text": [
      "/home/wei/miniconda3/lib/python3.9/site-packages/MDAnalysis/topology/PDBParser.py:317: UserWarning: Element information is missing, elements attribute will not be populated. If needed these can be guessed using MDAnalysis.topology.guessers.\n",
      "  warnings.warn(\"Element information is missing, elements attribute \"\n"
     ]
    }
   ],
   "source": [
    "sys_name = 'AlanineDipeptide'\n",
    "\n",
    "# name of PDB file\n",
    "pdb_filename = \"MD_samplers/AlanineDipeptideOpenMM/vacuum.pdb\"\n",
    "# name of DCD file\n",
    "output_path = 'MD_samplers/allegro-data/working_dir/Langevin_working_dir' \n",
    "#output_path = './allegro-data/working_dir/Langevin_working_dir-test3-plumed/' \n",
    "traj_dcd_filename = '%s/traj.dcd' % output_path\n",
    "\n",
    "# load the reference configuration from the PDB file\n",
    "ref = mda.Universe(pdb_filename) \n",
    "\n",
    "atoms_info = pd.DataFrame(\n",
    "    np.array([ref.atoms.ids, ref.atoms.names, ref.atoms.types, ref.atoms.masses, ref.atoms.resids, ref.atoms.resnames]).T, \n",
    "    columns=['id', 'name', 'type', 'mass', 'resid', 'resname']\n",
    ")\n",
    "\n",
    "# print information of trajectory\n",
    "print ('\\nMD system:\\n\\\n",
    "\\tno. of atoms: {}\\n\\\n",
    "\\tno. of residues: {}\\n'.format(ref.trajectory.n_atoms, ref.residues.n_residues)\n",
    "      )\n",
    "print ('Detailed atom information:\\n', atoms_info)\n",
    "\n",
    "print ('\\nSummary:\\n', atoms_info['type'].value_counts().rename_axis('type').reset_index(name='counts'))"
   ]
  },
  {
   "cell_type": "markdown",
   "id": "c6fa901f",
   "metadata": {},
   "source": [
    "#### 1.2 load trajectory, and align with respect to refenrence"
   ]
  },
  {
   "cell_type": "code",
   "execution_count": 66,
   "id": "b4966333",
   "metadata": {},
   "outputs": [
    {
     "name": "stderr",
     "output_type": "stream",
     "text": [
      "/home/wei/miniconda3/lib/python3.9/site-packages/MDAnalysis/topology/PDBParser.py:317: UserWarning: Element information is missing, elements attribute will not be populated. If needed these can be guessed using MDAnalysis.topology.guessers.\n",
      "  warnings.warn(\"Element information is missing, elements attribute \"\n"
     ]
    },
    {
     "name": "stdout",
     "output_type": "stream",
     "text": [
      "\n",
      "[Task 1/2] load trajectory to numpy array...done.\n",
      "\n",
      "Trajectory Info:\n",
      "\tno. of frames in trajectory data: 50000\n",
      "\ttimestep: 1.0ps\n",
      "\ttime length: 49999.0ps\n",
      "\tshape of trajectory data array: torch.Size([50000, 22, 3])\n",
      "\n",
      "[Task 2/2] Preprocessing.\n",
      "aligning by atoms:\n",
      "    id name type\n",
      "1    2  CH3    C\n",
      "4    5    C    C\n",
      "5    6    O    O\n",
      "6    7    N    N\n",
      "8    9   CA    C\n",
      "10  11   CB    C\n",
      "14  15    C    C\n",
      "15  16    O    O\n",
      "16  17    N    N\n",
      "18  19  CH3    C\n",
      "\n",
      "10 Atoms used in define neural network:\n",
      "     id name type\n",
      "1    2  CH3    C\n",
      "4    5    C    C\n",
      "5    6    O    O\n",
      "6    7    N    N\n",
      "8    9   CA    C\n",
      "10  11   CB    C\n",
      "14  15    C    C\n",
      "15  16    O    O\n",
      "16  17    N    N\n",
      "18  19  CH3    C\n",
      "\n",
      "shape of preprocessed trajectory data array:\n",
      " torch.Size([50000, 30])\n",
      "\n",
      "[Task 2/2] done.\n"
     ]
    }
   ],
   "source": [
    "# define a class for aligning trajectory\n",
    "class Align(object):\n",
    "    def __init__(self, ref_pos, align_atom_indices):\n",
    "        self.atom_indices = align_atom_indices\n",
    "        self.ref_x = torch.from_numpy(ref_pos[align_atom_indices]).double()        \n",
    "        # shift reference state \n",
    "        ref_c = torch.mean(self.ref_x, 0) \n",
    "        self.ref_x = self.ref_x - ref_c\n",
    "        self.num_atoms = len(align_atom_indices) * 3\n",
    "        \n",
    "    def show_info(self):\n",
    "        print (f'\\nAlignment:\\n indices of {len(self.atom_indices)} Atoms used in alignment:\\n\\t', self.atom_indices)\n",
    "        print ('\\n\\treference state used in aligment:\\n', self.ref_x.numpy())\n",
    "        \n",
    "    def dist_to_ref(self, traj):\n",
    "        return torch.linalg.norm(torch.sub(traj[:,self.atom_indices,:], self.ref_x), dim=(1,2)).numpy()     \n",
    "            \n",
    "    def __call__(self, traj):  \n",
    "        \"\"\"\n",
    "        align trajectory by translation and rotation\n",
    "        \"\"\"\n",
    "                         \n",
    "        traj_selected_atoms = traj[:, self.atom_indices, :]\n",
    "        # centers\n",
    "        x_c = torch.mean(traj_selected_atoms, 1, True)\n",
    "        # translation\n",
    "        x_notran = traj_selected_atoms - x_c \n",
    "        \n",
    "        xtmp = x_notran.permute((0,2,1))\n",
    "        prod = torch.matmul(xtmp, self.ref_x) # dimension: traj_length x 3 x 3\n",
    "        u, s, vh = torch.linalg.svd(prod)\n",
    "\n",
    "        diag_mat = torch.diag(torch.ones(3)).double().unsqueeze(0).repeat(traj.size(0), 1, 1)\n",
    "\n",
    "        sign_vec = torch.sign(torch.linalg.det(torch.matmul(u, vh))).detach()\n",
    "        diag_mat[:,2,2] = sign_vec\n",
    "\n",
    "        rotate_mat = torch.bmm(torch.bmm(u, diag_mat), vh)\n",
    "\n",
    "        aligned_traj = torch.matmul(traj-x_c, rotate_mat) \n",
    "                \n",
    "        return aligned_traj     \n",
    "\n",
    "class Preprocessing(torch.nn.Module):\n",
    "    \n",
    "    def __init__(self, ref_pos, align_atom_indices, nn_atom_indices):\n",
    "\n",
    "        super(Preprocessing, self).__init__()\n",
    "        \n",
    "        self.align_atom_indices = torch.tensor(align_atom_indices).long()\n",
    "        self.ref_x = torch.from_numpy(ref_pos[align_atom_indices]).double()        \n",
    "        # shift reference state \n",
    "        ref_c = torch.mean(self.ref_x, 0) \n",
    "        self.ref_x = self.ref_x - ref_c\n",
    "        self.nn_atom_indices = torch.tensor(nn_atom_indices).long()\n",
    "        \n",
    "    def show_info(self):\n",
    "        print ('atom indices used for alignment: ', self.align_atom_indices.numpy())\n",
    "        print ('atom indices used for input layer: ', self.nn_atom_indices.numpy())\n",
    "        print ('\\n\\treference state used in aligment:\\n', self.ref_x.numpy())\n",
    "\n",
    "    def align(self, traj):  \n",
    "        \"\"\"\n",
    "        align trajectory by translation and rotation\n",
    "        \"\"\"\n",
    "                         \n",
    "        traj_selected_atoms = traj[:, self.align_atom_indices, :]\n",
    "        # centers\n",
    "        x_c = torch.mean(traj_selected_atoms, 1, True)\n",
    "        # translation\n",
    "        x_notran = traj_selected_atoms - x_c \n",
    "        \n",
    "        xtmp = x_notran.permute((0,2,1))\n",
    "        prod = torch.matmul(xtmp, self.ref_x) # dimension: traj_length x 3 x 3\n",
    "        u, s, vh = torch.linalg.svd(prod)\n",
    "\n",
    "        diag_mat = torch.diag(torch.ones(3)).double().unsqueeze(0).repeat(traj.size(0), 1, 1)\n",
    "\n",
    "        sign_vec = torch.sign(torch.linalg.det(torch.matmul(u, vh))).detach()\n",
    "        diag_mat[:,2,2] = sign_vec\n",
    "\n",
    "        rotate_mat = torch.bmm(torch.bmm(u, diag_mat), vh)\n",
    "\n",
    "        aligned_traj = torch.matmul(traj-x_c, rotate_mat) \n",
    "                \n",
    "        return aligned_traj     \n",
    "    \n",
    "   \n",
    "    def forward(self, inp):\n",
    "        inp = self.align(inp)\n",
    "        inp = torch.flatten(inp[:,self.nn_atom_indices,:], start_dim=1)\n",
    "        return inp\n",
    "    \n",
    "# load the trajectory data from DCD file\n",
    "u = mda.Universe(pdb_filename, traj_dcd_filename)\n",
    "\n",
    "print ('\\n[Task 1/2] load trajectory to numpy array...', end='')\n",
    "# load trajectory to torch tensor \n",
    "trajectory = torch.from_numpy(u.trajectory.timeseries(order='fac')).double()\n",
    "print ('done.')\n",
    "\n",
    "# print information of trajectory\n",
    "print ('\\nTrajectory Info:\\n\\\n",
    "\\tno. of frames in trajectory data: {}\\n\\\n",
    "\\ttimestep: {:.1f}ps\\n\\\n",
    "\\ttime length: {:.1f}ps\\n\\\n",
    "\\tshape of trajectory data array: {}'.format(u.trajectory.n_frames, \n",
    "                                  u.trajectory.time, \n",
    "                                  u.trajectory.totaltime,\n",
    "                                  trajectory.shape\n",
    "                                 )\n",
    "      )\n",
    "\n",
    "align_selector = \"type C or type O or type N\"\n",
    "selected_ids = u.select_atoms(align_selector).ids\n",
    "\n",
    "print ('\\n[Task 2/2] Preprocessing.\\naligning by atoms:')\n",
    "print (atoms_info.loc[atoms_info['id'].isin(selected_ids)][['id','name', 'type']])\n",
    "\n",
    "train_atom_selector = \"type C or type O or type N\"\n",
    "train_atom_ids = u.select_atoms(align_selector).ids \n",
    "train_atom_indices = train_atom_ids - 1 # minus one, such that the index starts from 0\n",
    "\n",
    "#preprocessing the trajectory data\n",
    "preprocessing_layer = Preprocessing(ref.atoms.positions, selected_ids-1, train_atom_indices)\n",
    "traj = preprocessing_layer(trajectory)\n",
    "\n",
    "#input dimension of nn\n",
    "input_dim = 3 * len(train_atom_ids)\n",
    "print ('\\n{} Atoms used in define neural network:\\n'.format(len(train_atom_ids)), atoms_info.loc[atoms_info['id'].isin(train_atom_ids)][['id','name', 'type']])\n",
    "\n",
    "# print information of trajectory\n",
    "print ('\\nshape of preprocessed trajectory data array:\\n {}'.format(traj.shape))\n",
    "print ('\\n[Task 2/2] done.')\n"
   ]
  },
  {
   "cell_type": "markdown",
   "id": "4b7e1684",
   "metadata": {},
   "source": [
    "#### (optional) display information"
   ]
  },
  {
   "cell_type": "code",
   "execution_count": 24,
   "id": "8224bb33",
   "metadata": {
    "scrolled": true
   },
   "outputs": [
    {
     "data": {
      "application/vnd.jupyter.widget-view+json": {
       "model_id": "ee125068c88b49718629903dd55659ff",
       "version_major": 2,
       "version_minor": 0
      },
      "text/plain": [
       "NGLWidget(max_frame=49999)"
      ]
     },
     "metadata": {},
     "output_type": "display_data"
    },
    {
     "data": {
      "image/png": "[encoded data removed]",
      "text/plain": [
       "<Figure size 432x288 with 1 Axes>"
      ]
     },
     "metadata": {
      "needs_background": "light"
     },
     "output_type": "display_data"
    }
   ],
   "source": [
    "#generate Ramachandran plot of two dihedral angles\n",
    "ax = plt.axes()\n",
    "r = dihedrals.Ramachandran(u.select_atoms('resid 2')).run()\n",
    "r.plot(ax, color='black', marker='.') #, ref=True)\n",
    "\n",
    "# display the trajectory\n",
    "view = nv.show_mdanalysis(u)\n",
    "view   "
   ]
  },
  {
   "cell_type": "markdown",
   "id": "12091344",
   "metadata": {},
   "source": [
    "## Part 2: Training\n",
    "\n",
    "#### define neural network model and training function"
   ]
  },
  {
   "cell_type": "code",
   "execution_count": 67,
   "id": "654153b8",
   "metadata": {
    "lines_to_end_of_cell_marker": 0,
    "lines_to_next_cell": 1
   },
   "outputs": [],
   "source": [
    "#Auto encoders class and functions for training.\n",
    "def create_sequential_nn(layer_dims, activation=torch.nn.Tanh()):\n",
    "    layers = []\n",
    "    for i in range(len(layer_dims)-2) :\n",
    "        layers.append(torch.nn.Linear(layer_dims[i], layer_dims[i+1])) \n",
    "        layers.append(activation)\n",
    "    layers.append(torch.nn.Linear(layer_dims[-2], layer_dims[-1])) \n",
    "    \n",
    "    return torch.nn.Sequential(*layers).double()\n",
    "         \n",
    "# Next, we define the training function \n",
    "def train(model, optimizer, writer, traj, weights, train_atom_indices, num_epochs=10, batch_size=32, test_ratio=0.2):\n",
    "    \"\"\"Function to train an AE model\n",
    "    \n",
    "    :param model: Neural network model built with PyTorch,\n",
    "    :param optimizer: PyTorch optimizer object\n",
    "    :param writer: SummaryWriter for log\n",
    "    :param traj: torch tensor, trajectory data, shape = (traj. length, no. of atom, 3)\n",
    "    :param weights: np.array, weights of each point of the trajectory when the dynamics is biased, ndim == 1\n",
    "    :param num_epochs: int, number of times the training goes through the whole dataset\n",
    "    :param batch_size: int, number of data points per batch for estimation of the gradient\n",
    "    :param test_size: float, between 0 and 1, giving the proportion of points used to compute test loss\n",
    "\n",
    "    :return: model, trained neural net model\n",
    "    :return: loss_list, list of lists of train losses and test losses; one per batch per epoch\n",
    "    \"\"\"\n",
    "    #--- prepare the data ---\n",
    "    # split the dataset into a training set (and its associated weights) and a test set\n",
    "    X_train, X_test, w_train, w_test = train_test_split(traj, weights, test_size=test_ratio)  \n",
    "    # intialization of the methods to sample with replacement from the data points (needed since weights are present)\n",
    "    train_sampler = torch.utils.data.WeightedRandomSampler(w_train, len(w_train))\n",
    "    test_sampler  = torch.utils.data.WeightedRandomSampler(w_test, len(w_test))\n",
    "    # method to construct data batches and iterate over them\n",
    "    train_loader = torch.utils.data.DataLoader(dataset=X_train,\n",
    "                                               batch_size=batch_size,\n",
    "                                               shuffle=False,\n",
    "                                               sampler=train_sampler)\n",
    "    test_loader  = torch.utils.data.DataLoader(dataset=X_test,\n",
    "                                               batch_size=batch_size,\n",
    "                                               shuffle=False,\n",
    "                                               sampler=test_sampler)\n",
    "    \n",
    "    loss_func = torch.nn.MSELoss()\n",
    "    # --- start the training over the required number of epochs ---\n",
    "    loss_list = []\n",
    "    print (\"\\ntraining starts, %d epochs in total.\" % num_epochs) \n",
    "    for epoch in tqdm(range(num_epochs)):\n",
    "        # Train the model by going through the whole dataset\n",
    "        model.train()\n",
    "        train_loss = []\n",
    "        for iteration, X in enumerate(train_loader):\n",
    "            # Clear gradients w.r.t. parameters\n",
    "            optimizer.zero_grad()\n",
    "            # Forward pass to get output\n",
    "            out = model(X)\n",
    "            # Evaluate loss\n",
    "            loss = loss_func(out, X)\n",
    "            # Get gradient with respect to parameters of the model\n",
    "            loss.backward()\n",
    "            # Store loss\n",
    "            train_loss.append(loss)\n",
    "            # Updating parameters\n",
    "            optimizer.step()\n",
    "        # Evaluate the test loss on the test dataset\n",
    "        model.eval()\n",
    "        with torch.no_grad():\n",
    "            # Evaluation of test loss\n",
    "            test_loss = []\n",
    "            for iteration, X in enumerate(test_loader):\n",
    "                out = model(X)\n",
    "                # Evaluate loss\n",
    "                loss = loss_func(out,X)\n",
    "                # Store loss\n",
    "                test_loss.append(loss)\n",
    "            loss_list.append([torch.tensor(train_loss), torch.tensor(test_loss)])\n",
    "            \n",
    "        writer.add_scalar('Loss/train', torch.mean(torch.tensor(train_loss)), epoch)\n",
    "        writer.add_scalar('Loss/test', torch.mean(torch.tensor(test_loss)), epoch)\n",
    "                        \n",
    "    print (\"training ends.\\n\") \n",
    "    \n",
    "    return model, loss_list"
   ]
  },
  {
   "cell_type": "markdown",
   "id": "90cac50a",
   "metadata": {},
   "source": [
    "#### set training parameters "
   ]
  },
  {
   "cell_type": "code",
   "execution_count": 86,
   "id": "30ad270a",
   "metadata": {
    "scrolled": true
   },
   "outputs": [
    {
     "name": "stdout",
     "output_type": "stream",
     "text": [
      "\n",
      "Input dim: 30,\tencoded dim: 1\n",
      "\n",
      "Autoencoder:\n",
      " Sequential(\n",
      "  (0): Sequential(\n",
      "    (0): Linear(in_features=30, out_features=20, bias=True)\n",
      "    (1): Tanh()\n",
      "    (2): Linear(in_features=20, out_features=20, bias=True)\n",
      "    (3): Tanh()\n",
      "    (4): Linear(in_features=20, out_features=1, bias=True)\n",
      "  )\n",
      "  (1): Sequential(\n",
      "    (0): Linear(in_features=1, out_features=20, bias=True)\n",
      "    (1): Tanh()\n",
      "    (2): Linear(in_features=20, out_features=20, bias=True)\n",
      "    (3): Tanh()\n",
      "    (4): Linear(in_features=20, out_features=30, bias=True)\n",
      "  )\n",
      ")\n",
      "model parameters loaded from: checkpoint/AlanineDipeptide-2022-02-18-23:41:05/trained_model.pt\n",
      "\n",
      "Log directory: checkpoint/AlanineDipeptide-2022-02-18-23:41:59\n",
      "\n"
     ]
    }
   ],
   "source": [
    "def set_seed_all(seed=-1):\n",
    "    torch.manual_seed(seed)\n",
    "    if torch.cuda.is_available():\n",
    "        torch.cuda.manual_seed_all(seed)\n",
    "    np.random.seed(seed)\n",
    "    random.seed(seed)\n",
    "\n",
    "#All the parameters are set in the cell below. \n",
    "seed = None \n",
    "if seed:\n",
    "    set_seed_all(seed)\n",
    "  \n",
    "#set training parameters\n",
    "batch_size = 10000\n",
    "num_epochs = 10\n",
    "learning_rate = 0.005\n",
    "optimizer_algo = 'Adam'  # Adam by default, otherwise SGD\n",
    "\n",
    "# encoded dimension\n",
    "k = 1\n",
    "e_layer_dims = [input_dim, 20, 20, k]\n",
    "d_layer_dims = [k, 20, 20, input_dim]\n",
    "print ('\\nInput dim: {},\\tencoded dim: {}\\n'.format(input_dim, k))\n",
    "\n",
    "activation = torch.nn.Tanh()\n",
    "encoder = create_sequential_nn(e_layer_dims, activation)\n",
    "decoder = create_sequential_nn(d_layer_dims, activation)\n",
    "ae_model = torch.nn.Sequential(encoder, decoder) \n",
    "\n",
    "print ('Autoencoder:\\n', ae_model)\n",
    "\n",
    "load_model_filename = 'checkpoint/AlanineDipeptide-2022-02-18-23:41:05/trained_model.pt' #None #'checkpoint/AlanineDipeptide-2022-02-18-13:11:19/trained_model.pt' #None \n",
    "    \n",
    "if load_model_filename is not None:\n",
    "    ae_model.load_state_dict(torch.load(load_model_filename))\n",
    "    print (f'model parameters loaded from: {load_model_filename}')\n",
    "    \n",
    "# path to store log data\n",
    "model_save_dir = 'checkpoint'\n",
    "prefix = f\"{sys_name}-\" \n",
    "model_path = os.path.join(model_save_dir, prefix + time.strftime(\"%Y-%m-%d-%H:%M:%S\", time.localtime()))\n",
    "print ('\\nLog directory: {}\\n'.format(model_path))\n",
    "writer = SummaryWriter(model_path)\n"
   ]
  },
  {
   "cell_type": "markdown",
   "id": "80852277",
   "metadata": {},
   "source": [
    "#### start training "
   ]
  },
  {
   "cell_type": "code",
   "execution_count": 87,
   "id": "3751a7a4",
   "metadata": {},
   "outputs": [
    {
     "name": "stdout",
     "output_type": "stream",
     "text": [
      "\n",
      "training starts, 10 epochs in total.\n"
     ]
    },
    {
     "name": "stderr",
     "output_type": "stream",
     "text": [
      "100%|█████████████████████████████████████████████████████████████████████████████████████████████████████████████████████████████████| 10/10 [00:01<00:00,  7.04it/s]"
     ]
    },
    {
     "name": "stdout",
     "output_type": "stream",
     "text": [
      "training ends.\n",
      "\n",
      "trained model is saved at: checkpoint/AlanineDipeptide-2022-02-18-23:41:59/trained_model.pt\n",
      "\n"
     ]
    },
    {
     "name": "stderr",
     "output_type": "stream",
     "text": [
      "\n"
     ]
    }
   ],
   "source": [
    "# Define the optimizer\n",
    "if optimizer_algo == 'Adam':\n",
    "    optimizer = torch.optim.Adam(ae_model.parameters(), lr=learning_rate)\n",
    "else:\n",
    "    optimizer = torch.optim.SGD(ae_model.parameters(), lr=learning_rate)\n",
    "\n",
    "ae_model, loss_list = train(ae_model, \n",
    "                            optimizer, \n",
    "                            writer,\n",
    "                            traj, \n",
    "                            np.ones(trajectory.shape[0]), \n",
    "                            train_atom_indices,\n",
    "                            batch_size=batch_size, \n",
    "                            num_epochs=num_epochs\n",
    "                            )\n",
    "\n",
    "#save the model\n",
    "trained_model_filename = f'{model_path}/trained_model.pt'\n",
    "torch.save(ae_model.state_dict(), trained_model_filename)  \n",
    "print (f'trained model is saved at: {trained_model_filename}\\n')\n",
    "\n",
    "#--- Compute average train per epoch ---\n",
    "loss_evol1 = []\n",
    "for i in range(len(loss_list)):\n",
    "    loss_evol1.append([torch.mean(loss_list[i][0]), torch.mean(loss_list[i][1])])\n",
    "loss_evol1 = np.array(loss_evol1)"
   ]
  },
  {
   "cell_type": "markdown",
   "id": "d6654229",
   "metadata": {},
   "source": [
    "#### (optional) plot the results "
   ]
  },
  {
   "cell_type": "code",
   "execution_count": 88,
   "id": "24567d02",
   "metadata": {
    "lines_to_next_cell": 0,
    "scrolled": true
   },
   "outputs": [
    {
     "data": {
      "image/png": "[encoded data removed]",
      "text/plain": [
       "<Figure size 432x288 with 1 Axes>"
      ]
     },
     "metadata": {
      "needs_background": "light"
     },
     "output_type": "display_data"
    }
   ],
   "source": [
    "save_fig_to_file = False\n",
    "start_epoch_index = 1\n",
    "ax  = plt.axes() \n",
    "ax.plot(range(start_epoch_index, num_epochs), loss_evol1[start_epoch_index:, 0], '--', label='train loss', marker='o')\n",
    "ax.plot(range(1, num_epochs), loss_evol1[start_epoch_index:, 1], '-.', label='test loss', marker='+')\n",
    "ax.legend()\n",
    "ax.set_title('losses')\n",
    "\n",
    "if save_fig_to_file :\n",
    "    fig_filename = 'training_loss_%s.jpg' % pot_name\n",
    "    fig.savefig(fig_filename)\n",
    "    print ('training loss plotted to file: %s' % fig_filename)"
   ]
  },
  {
   "cell_type": "markdown",
   "id": "9069b965",
   "metadata": {},
   "source": [
    "#### define CVs using encoder, script, and save to file."
   ]
  },
  {
   "cell_type": "code",
   "execution_count": 89,
   "id": "312b69a2",
   "metadata": {
    "lines_to_next_cell": 2
   },
   "outputs": [
    {
     "name": "stdout",
     "output_type": "stream",
     "text": [
      "script model for CVs is saved at:\n",
      "\tcheckpoint/AlanineDipeptide-2022-02-18-23:41:59/trained_scripted_cv.pt\n",
      "\n"
     ]
    }
   ],
   "source": [
    "class ColVar(torch.nn.Module):\n",
    "    def __init__(self, preprocessing_layer, encoder):\n",
    "        super(ColVar, self).__init__()\n",
    "        self.preprocessing_layer = preprocessing_layer\n",
    "        self.encoder = encoder\n",
    "    def forward(self, inp):\n",
    "        return self.encoder(self.preprocessing_layer(inp))\n",
    "    \n",
    "cv = ColVar(preprocessing_layer, encoder)\n",
    "\n",
    "trained_script_cv_filename = f'{model_path}/trained_scripted_cv.pt'\n",
    "torch.jit.script(cv).save(trained_script_cv_filename)\n",
    "\n",
    "print (f'script model for CVs is saved at:\\n\\t{trained_script_cv_filename}\\n')"
   ]
  },
  {
   "cell_type": "code",
   "execution_count": 90,
   "id": "57076700",
   "metadata": {},
   "outputs": [
    {
     "name": "stdout",
     "output_type": "stream",
     "text": [
      "RecursiveScriptModule(\n",
      "  original_name=ColVar\n",
      "  (preprocessing_layer): RecursiveScriptModule(original_name=Preprocessing)\n",
      "  (encoder): RecursiveScriptModule(\n",
      "    original_name=Sequential\n",
      "    (0): RecursiveScriptModule(original_name=Linear)\n",
      "    (1): RecursiveScriptModule(original_name=Tanh)\n",
      "    (2): RecursiveScriptModule(original_name=Linear)\n",
      "    (3): RecursiveScriptModule(original_name=Tanh)\n",
      "    (4): RecursiveScriptModule(original_name=Linear)\n",
      "  )\n",
      ")\n",
      "tensor([[ 2.1566],\n",
      "        [ 1.7321],\n",
      "        [ 2.3054],\n",
      "        ...,\n",
      "        [-0.0844],\n",
      "        [-0.0390],\n",
      "        [-0.1115]], dtype=torch.float64, grad_fn=<AddmmBackward0>)\n"
     ]
    }
   ],
   "source": [
    "cv = torch.jit.load(trained_script_cv_filename)\n",
    "print (cv)\n",
    "print (cv(trajectory))"
   ]
  },
  {
   "cell_type": "code",
   "execution_count": null,
   "id": "05f3c2f0",
   "metadata": {},
   "outputs": [],
   "source": []
  },
  {
   "cell_type": "code",
   "execution_count": null,
   "id": "a4a225b4",
   "metadata": {},
   "outputs": [],
   "source": []
  }
 ],
 "metadata": {
  "jupytext": {
   "cell_metadata_filter": "-all",
   "executable": "/usr/bin/env python",
   "formats": "ipynb,auto:light",
   "notebook_metadata_filter": "-all"
  },
  "kernelspec": {
   "display_name": "Python 3 (ipykernel)",
   "language": "python",
   "name": "python3"
  },
  "language_info": {
   "codemirror_mode": {
    "name": "ipython",
    "version": 3
   },
   "file_extension": ".py",
   "mimetype": "text/x-python",
   "name": "python",
   "nbconvert_exporter": "python",
   "pygments_lexer": "ipython3",
   "version": "3.9.10"
  }
 },
 "nbformat": 4,
 "nbformat_minor": 5
}
