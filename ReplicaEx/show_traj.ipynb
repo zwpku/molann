{
 "cells": [
  {
   "cell_type": "code",
   "execution_count": 5,
   "id": "d00c6979",
   "metadata": {},
   "outputs": [],
   "source": [
    "import pytraj as pt\n",
    "traj = pt.load('traj.dcd', 'AlanineDipeptideOpenMM/vacuum.pdb')"
   ]
  },
  {
   "cell_type": "code",
   "execution_count": 3,
   "id": "74b443a1",
   "metadata": {},
   "outputs": [
    {
     "data": {
      "text/plain": [
       "pytraj.Trajectory, 401 frames: \n",
       "Size: 0.000197 (GB)\n",
       "<Topology: 22 atoms, 3 residues, 1 mols, non-PBC>\n",
       "           "
      ]
     },
     "execution_count": 3,
     "metadata": {},
     "output_type": "execute_result"
    }
   ],
   "source": [
    "traj\n"
   ]
  },
  {
   "cell_type": "code",
   "execution_count": 7,
   "id": "7d7556fc",
   "metadata": {},
   "outputs": [
    {
     "data": {
      "application/vnd.jupyter.widget-view+json": {
       "model_id": "5a987e8634a8446f8e5daff3648060b9",
       "version_major": 2,
       "version_minor": 0
      },
      "text/plain": [
       "NGLWidget(max_frame=400)"
      ]
     },
     "metadata": {},
     "output_type": "display_data"
    }
   ],
   "source": [
    "import nglview\n",
    "\n",
    "nglview.show_pytraj(traj)\n"
   ]
  },
  {
   "cell_type": "code",
   "execution_count": null,
   "id": "1843bd37",
   "metadata": {},
   "outputs": [],
   "source": []
  }
 ],
 "metadata": {
  "kernelspec": {
   "display_name": "Python 3 (ipykernel)",
   "language": "python",
   "name": "python3"
  },
  "language_info": {
   "codemirror_mode": {
    "name": "ipython",
    "version": 3
   },
   "file_extension": ".py",
   "mimetype": "text/x-python",
   "name": "python",
   "nbconvert_exporter": "python",
   "pygments_lexer": "ipython3",
   "version": "3.9.5"
  }
 },
 "nbformat": 4,
 "nbformat_minor": 5
}
