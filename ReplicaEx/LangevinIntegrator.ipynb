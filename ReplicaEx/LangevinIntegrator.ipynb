{
 "cells": [
  {
   "cell_type": "markdown",
   "id": "0a9b405e",
   "metadata": {},
   "source": [
    "## Generate MD trajectory data using OpenMM "
   ]
  },
  {
   "cell_type": "code",
   "execution_count": null,
   "id": "517a7577",
   "metadata": {},
   "outputs": [],
   "source": [
    "import math\n",
    "from random import random, randint\n",
    "import numpy as np\n",
    "import time\n",
    "import datetime\n",
    "import mdtraj\n",
    "import os, sys\n",
    "import warnings\n",
    "from sys import stdout\n",
    "import matplotlib.pyplot as plt\n",
    "import configparser\n",
    "\n",
    "# import openmm\n",
    "from openmm import *\n",
    "from openmm.app import *"
   ]
  },
  {
   "cell_type": "markdown",
   "id": "8a49171b",
   "metadata": {},
   "source": [
    "### set parameters"
   ]
  },
  {
   "cell_type": "code",
   "execution_count": null,
   "id": "915b511d",
   "metadata": {
    "scrolled": true
   },
   "outputs": [],
   "source": [
    "config = configparser.ConfigParser()\n",
    "config.read('params.cfg')\n",
    "pdb_filename = config['Default']['pdb_filename']\n",
    "n_steps = config['Default'].getint('n_steps')\n",
    "Temp = config['Default'].getfloat('Temperature') * unit.kelvin\n",
    "traj_dcd_filename = config['Default']['traj_dcd_filename']\n",
    "csv_filename = config['Default']['csv_filename']\n",
    "report_interval_dcd = config['Default'].getint('report_interval_dcd')\n",
    "report_interval_stdout = config['Default'].getint('report_interval_stdout')\n",
    "report_interval_csv = config['Default'].getint('report_interval_csv')"
   ]
  },
  {
   "cell_type": "markdown",
   "id": "185a280d",
   "metadata": {},
   "source": [
    "### MD simulation"
   ]
  },
  {
   "cell_type": "code",
   "execution_count": null,
   "id": "7870229c",
   "metadata": {
    "scrolled": true
   },
   "outputs": [],
   "source": [
    "print ( 'trajectory will be saved to file: %s' % traj_dcd_filename )\n",
    "\n",
    "# prepare before simulation\n",
    "pdb = PDBFile(pdb_filename)\n",
    "forcefield = ForceField('amber14-all.xml')\n",
    "system = forcefield.createSystem(pdb.topology, nonbondedCutoff=2*unit.nanometer, constraints=HBonds)\n",
    "integrator = LangevinIntegrator(Temp, 1/unit.picosecond, 2*unit.femtoseconds)\n",
    "simulation = Simulation(pdb.topology, system, integrator)\n",
    "simulation.context.setPositions(pdb.positions)\n",
    "simulation.minimizeEnergy()\n",
    "\n",
    "# registrate reporter for output\n",
    "simulation.reporters = []\n",
    "simulation.reporters.append(DCDReporter(traj_dcd_filename, report_interval_dcd))\n",
    "simulation.reporters.append(StateDataReporter(stdout, report_interval_stdout, step=True,\n",
    "                                              temperature=True, elapsedTime=True))\n",
    "simulation.reporters.append(StateDataReporter(csv_filename, report_interval_csv, time=True,\n",
    "                                              potentialEnergy=True, totalEnergy=True, temperature=True))\n",
    "\n",
    "# run the simulation\n",
    "print ('Simulation starts...')\n",
    "start = time.time()\n",
    "simulation.step(n_steps)\n",
    "end = time.time()\n",
    "print ( 'Simulation ends, %d sec. elapsed.' % (end - start) )\n",
    "\n",
    "del simulation"
   ]
  },
  {
   "cell_type": "code",
   "execution_count": null,
   "id": "533e4198",
   "metadata": {},
   "outputs": [],
   "source": []
  }
 ],
 "metadata": {
  "jupytext": {
   "executable": "/usr/bin/env python",
   "formats": "ipynb,py:light"
  },
  "kernelspec": {
   "display_name": "Python 3 (ipykernel)",
   "language": "python",
   "name": "python3"
  },
  "language_info": {
   "codemirror_mode": {
    "name": "ipython",
    "version": 3
   },
   "file_extension": ".py",
   "mimetype": "text/x-python",
   "name": "python",
   "nbconvert_exporter": "python",
   "pygments_lexer": "ipython3",
   "version": "3.9.5"
  }
 },
 "nbformat": 4,
 "nbformat_minor": 5
}
