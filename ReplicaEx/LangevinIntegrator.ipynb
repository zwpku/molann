{
 "cells": [
  {
   "cell_type": "markdown",
   "id": "0a9b405e",
   "metadata": {},
   "source": [
    "## Generate MD trajectory data using OpenMM "
   ]
  },
  {
   "cell_type": "code",
   "execution_count": null,
   "id": "517a7577",
   "metadata": {},
   "outputs": [],
   "source": [
    "import math\n",
    "from random import random, randint\n",
    "import numpy as np\n",
    "import time\n",
    "import datetime\n",
    "import mdtraj\n",
    "import os\n",
    "import warnings\n",
    "from sys import stdout\n",
    "import matplotlib.pyplot as plt\n",
    "\n",
    "# import openmm\n",
    "from openmm import *\n",
    "from openmm.app import *"
   ]
  },
  {
   "cell_type": "markdown",
   "id": "8a49171b",
   "metadata": {},
   "source": [
    "### MD simulation"
   ]
  },
  {
   "cell_type": "code",
   "execution_count": null,
   "id": "7870229c",
   "metadata": {},
   "outputs": [],
   "source": [
    "# This PDB file describes AlanineDipeptide in vacuum. \n",
    "# It is from the OpenMM source code.\n",
    "pdb_filename = './AlanineDipeptideOpenMM/vacuum.pdb'\n",
    "\n",
    "n_steps = 20000 # Total simulation steps, i.e. number of states.\n",
    "Temp = 498.0 * unit.kelvin  # temperature.\n",
    "output_path = './Langevin_output'\n",
    "traj_dcd_filename = '%s/traj.dcd' % output_path\n",
    "csv_filename = '%s/state_data.csv' % output_path\n",
    "report_interval_dcd = 100\n",
    "report_interval_stdout = 1000\n",
    "report_interval_csv = 100\n",
    "\n",
    "print ( 'trajectory will be saved to file: %s' % traj_dcd_filename )\n",
    "\n",
    "# prepare before simulation\n",
    "pdb = PDBFile(pdb_filename)\n",
    "forcefield = ForceField('amber14-all.xml')\n",
    "system = forcefield.createSystem(pdb.topology, nonbondedCutoff=2*unit.nanometer, constraints=HBonds)\n",
    "integrator = LangevinIntegrator(Temp, 1/unit.picosecond, 2*unit.femtoseconds)\n",
    "simulation = Simulation(pdb.topology, system, integrator)\n",
    "simulation.context.setPositions(pdb.positions)\n",
    "simulation.minimizeEnergy()\n",
    "\n",
    "# registrate reporter for output\n",
    "simulation.reporters = []\n",
    "simulation.reporters.append(DCDReporter(traj_dcd_filename, report_interval_dcd))\n",
    "simulation.reporters.append(StateDataReporter(stdout, report_interval_stdout, step=True,\n",
    "                                              temperature=True, elapsedTime=True))\n",
    "simulation.reporters.append(StateDataReporter(csv_filename, report_interval_csv, time=True,\n",
    "                                              potentialEnergy=True, totalEnergy=True, temperature=True))\n",
    "\n",
    "# run the simulation\n",
    "print ('Simulation starts...')\n",
    "start = time.time()\n",
    "simulation.step(n_steps)\n",
    "end = time.time()\n",
    "print ( 'Simulation ends, %d sec. elapsed.' % (end - start) )\n",
    "\n",
    "del simulation"
   ]
  }
 ],
 "metadata": {
  "jupytext": {
   "executable": "/usr/bin/env python",
   "formats": "ipynb,py:light"
  },
  "kernelspec": {
   "display_name": "Python 3 (ipykernel)",
   "language": "python",
   "name": "python3"
  },
  "language_info": {
   "codemirror_mode": {
    "name": "ipython",
    "version": 3
   },
   "file_extension": ".py",
   "mimetype": "text/x-python",
   "name": "python",
   "nbconvert_exporter": "python",
   "pygments_lexer": "ipython3",
   "version": "3.9.5"
  }
 },
 "nbformat": 4,
 "nbformat_minor": 5
}
