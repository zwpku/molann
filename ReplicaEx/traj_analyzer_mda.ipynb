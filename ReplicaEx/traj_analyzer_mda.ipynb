{
 "cells": [
  {
   "cell_type": "code",
   "execution_count": 48,
   "id": "387b60f8",
   "metadata": {},
   "outputs": [],
   "source": [
    "import MDAnalysis as mda\n",
    "from MDAnalysis.analysis import dihedrals, rms\n",
    "import matplotlib.pyplot as plt\n",
    "import numpy as np\n",
    "import nglview as nv\n"
   ]
  },
  {
   "cell_type": "code",
   "execution_count": 49,
   "id": "fabd8b7d",
   "metadata": {},
   "outputs": [
    {
     "name": "stdout",
     "output_type": "stream",
     "text": [
      "<ResidueGroup [<Residue ACE, 1>, <Residue ALA, 2>, <Residue NME, 3>]>\n",
      "<DCDReader traj.dcd with 2001 frames of 22 atoms>\n",
      "<PDBReader ./AlanineDipeptideOpenMM/vacuum.pdb with 1 frames of 22 atoms>\n"
     ]
    },
    {
     "name": "stderr",
     "output_type": "stream",
     "text": [
      "/home/wei/miniconda3/lib/python3.9/site-packages/MDAnalysis/topology/PDBParser.py:317: UserWarning: Element information is missing, elements attribute will not be populated. If needed these can be guessed using MDAnalysis.topology.guessers.\n",
      "  warnings.warn(\"Element information is missing, elements attribute \"\n"
     ]
    }
   ],
   "source": [
    "u = mda.Universe(\"./AlanineDipeptideOpenMM/vacuum.pdb\", 'traj.dcd')\n",
    "ref = mda.Universe(\"./AlanineDipeptideOpenMM/vacuum.pdb\")\n",
    "print (u.residues)\n",
    "print (u.trajectory)\n",
    "print (ref.trajectory)"
   ]
  },
  {
   "cell_type": "code",
   "execution_count": 50,
   "id": "b7db69cd",
   "metadata": {},
   "outputs": [
    {
     "data": {
      "text/plain": [
       "<Residue ALA, 2>"
      ]
     },
     "execution_count": 50,
     "metadata": {},
     "output_type": "execute_result"
    }
   ],
   "source": [
    "nv.show_mdanalysis(u)\n",
    "res = u.residues[1]\n",
    "\n",
    "phi = res.phi_selection()\n",
    "res\n",
    "#protein = u.select_atoms('protein')\n",
    "#protein"
   ]
  },
  {
   "cell_type": "code",
   "execution_count": 51,
   "id": "48b3f2aa",
   "metadata": {},
   "outputs": [
    {
     "data": {
      "text/plain": [
       "<AxesSubplot:xlabel='$\\\\phi$', ylabel='$\\\\psi$'>"
      ]
     },
     "execution_count": 51,
     "metadata": {},
     "output_type": "execute_result"
    },
    {
     "data": {
      "image/png": "[encoded data removed]",
      "text/plain": [
       "<Figure size 432x288 with 1 Axes>"
      ]
     },
     "metadata": {
      "needs_background": "light"
     },
     "output_type": "display_data"
    }
   ],
   "source": [
    "r = dihedrals.Ramachandran(u.select_atoms('resid 2')).run()\n",
    "r.plot()"
   ]
  },
  {
   "cell_type": "code",
   "execution_count": 63,
   "id": "c37113a1",
   "metadata": {},
   "outputs": [
    {
     "name": "stdout",
     "output_type": "stream",
     "text": [
      "<AtomGroup [<Atom 5: C of type C of resname ACE, resid 1 and segid SYSTEM and altLoc >, <Atom 7: N of type N of resname ALA, resid 2 and segid SYSTEM and altLoc >, <Atom 9: CA of type C of resname ALA, resid 2 and segid SYSTEM and altLoc >, <Atom 15: C of type C of resname ALA, resid 2 and segid SYSTEM and altLoc >, <Atom 17: N of type N of resname NME, resid 3 and segid SYSTEM and altLoc >]>\n"
     ]
    },
    {
     "data": {
      "text/plain": [
       "<MDAnalysis.analysis.rms.RMSD at 0x7f29ac09fb50>"
      ]
     },
     "execution_count": 63,
     "metadata": {},
     "output_type": "execute_result"
    }
   ],
   "source": [
    "selector = 'name N or name CA or name C'\n",
    "#sel = u.select_atoms(selector)\n",
    "#print (sel)\n",
    "R = rms.RMSD(u, ref, select=selector)          \n",
    "R.run()"
   ]
  },
  {
   "cell_type": "code",
   "execution_count": 64,
   "id": "dcdeab9b",
   "metadata": {},
   "outputs": [
    {
     "name": "stdout",
     "output_type": "stream",
     "text": [
      "(3, 2001)\n"
     ]
    },
    {
     "data": {
      "text/plain": [
       "Text(0, 0.5, 'RMSD ($\\\\AA$)')"
      ]
     },
     "execution_count": 64,
     "metadata": {},
     "output_type": "execute_result"
    },
    {
     "data": {
      "image/png": "[encoded data removed]",
      "text/plain": [
       "<Figure size 288x288 with 1 Axes>"
      ]
     },
     "metadata": {
      "needs_background": "light"
     },
     "output_type": "display_data"
    }
   ],
   "source": [
    "rmsd = R.results.rmsd.T   # transpose makes it easier for plotting\n",
    "print (rmsd.shape)\n",
    "fig = plt.figure(figsize=(4,4))\n",
    "plt.plot(rmsd[0,:], rmsd[2,:], 'k-')\n",
    "#ax.legend(loc=\"best\")\n",
    "plt.xlabel(\"time (ps)\")\n",
    "plt.ylabel(r\"RMSD ($\\AA$)\")\n",
    "#plt.xlim([0,2000])\n",
    "#fig.savefig(\"rmsd_all_CORE_LID_NMP_ref1AKE.pdf\")"
   ]
  },
  {
   "cell_type": "code",
   "execution_count": null,
   "id": "fbad4a50",
   "metadata": {},
   "outputs": [],
   "source": []
  }
 ],
 "metadata": {
  "kernelspec": {
   "display_name": "Python 3 (ipykernel)",
   "language": "python",
   "name": "python3"
  },
  "language_info": {
   "codemirror_mode": {
    "name": "ipython",
    "version": 3
   },
   "file_extension": ".py",
   "mimetype": "text/x-python",
   "name": "python",
   "nbconvert_exporter": "python",
   "pygments_lexer": "ipython3",
   "version": "3.9.5"
  }
 },
 "nbformat": 4,
 "nbformat_minor": 5
}
