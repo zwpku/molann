{
 "cells": [
  {
   "cell_type": "code",
   "execution_count": 12,
   "id": "387b60f8",
   "metadata": {
    "lines_to_next_cell": 2
   },
   "outputs": [],
   "source": [
    "import MDAnalysis as mda\n",
    "from MDAnalysis.analysis import dihedrals, rms\n",
    "import matplotlib.pyplot as plt\n",
    "import numpy as np\n",
    "import nglview as nv"
   ]
  },
  {
   "cell_type": "markdown",
   "id": "5ea42e94",
   "metadata": {},
   "source": [
    "### Set parameters "
   ]
  },
  {
   "cell_type": "code",
   "execution_count": 29,
   "id": "f1d0c7ac",
   "metadata": {},
   "outputs": [],
   "source": [
    "is_deactivate_warning = True\n",
    "is_savefigs = True\n",
    "is_makemovie = True\n",
    "is_makemovie_from_disk = False\n",
    "\n",
    "sysname = 'AlanineDipeptide'\n",
    "# name of PDB file\n",
    "pdb_filename = \"./AlanineDipeptideOpenMM/vacuum.pdb\"\n",
    "# name of DCD file\n",
    "traj_dcd_filename = 'traj.dcd'\n",
    "\n",
    "if is_deactivate_warning :\n",
    "    import warnings\n",
    "    warnings.filterwarnings(\"ignore\")    \n",
    "    \n",
    "if is_makemovie :\n",
    "    import moviepy.editor as mpy\n",
    "    from time import sleep\n",
    "    # display the gif in this notebook\n",
    "    from IPython import display\n",
    "    "
   ]
  },
  {
   "cell_type": "markdown",
   "id": "856202e3",
   "metadata": {},
   "source": [
    "### Load and display trajectory data "
   ]
  },
  {
   "cell_type": "code",
   "execution_count": 24,
   "id": "fabd8b7d",
   "metadata": {
    "scrolled": false
   },
   "outputs": [
    {
     "name": "stdout",
     "output_type": "stream",
     "text": [
      "residues:  <ResidueGroup [<Residue ACE, 1>, <Residue ALA, 2>, <Residue NME, 3>]>\n",
      "trajectory:  <DCDReader traj.dcd with 101 frames of 22 atoms>\n",
      "reference:  <PDBReader ./AlanineDipeptideOpenMM/vacuum.pdb with 1 frames of 22 atoms>\n",
      "number of frames: 100 \n"
     ]
    },
    {
     "data": {
      "application/vnd.jupyter.widget-view+json": {
       "model_id": "17831fa9c5e949928d77e75200f08e17",
       "version_major": 2,
       "version_minor": 0
      },
      "text/plain": [
       "NGLWidget(max_frame=100)"
      ]
     },
     "metadata": {},
     "output_type": "display_data"
    }
   ],
   "source": [
    "# load the trajectory data from DCD file\n",
    "u = mda.Universe(pdb_filename, traj_dcd_filename)\n",
    "# load the reference configuration from the PDB file\n",
    "ref = mda.Universe(pdb_filename) \n",
    "\n",
    "# print some information\n",
    "print ('residues: ', u.residues)\n",
    "print ('trajectory: ', u.trajectory)\n",
    "print ('reference: ', ref.trajectory)\n",
    "\n",
    "# display the trajectory\n",
    "view = nv.show_mdanalysis(u)\n",
    "print ('number of frames: %d ' % view.max_frame)\n",
    "view"
   ]
  },
  {
   "cell_type": "markdown",
   "id": "f463f086",
   "metadata": {},
   "source": [
    "### Generate plots"
   ]
  },
  {
   "cell_type": "code",
   "execution_count": 25,
   "id": "eacfdf26",
   "metadata": {
    "scrolled": true
   },
   "outputs": [
    {
     "name": "stdout",
     "output_type": "stream",
     "text": [
      "Ramachandran plot saved to file: AlanineDipeptide_Ramachandran.eps\n"
     ]
    },
    {
     "data": {
      "image/png": "[encoded data removed]",
      "text/plain": [
       "<Figure size 432x288 with 1 Axes>"
      ]
     },
     "metadata": {
      "needs_background": "light"
     },
     "output_type": "display_data"
    }
   ],
   "source": [
    "# generate the Ramachandran plot of two dihedral angles\n",
    "ax = plt.gca()\n",
    "r = dihedrals.Ramachandran(u.select_atoms('resid 2')).run()\n",
    "r.plot(ax, color='black', marker='.') #, ref=True)\n",
    "\n",
    "if is_savefigs :\n",
    "    fig_filename_Ramachandran = '%s_Ramachandran.eps' % sysname\n",
    "    plt.savefig(fig_filename_Ramachandran)\n",
    "    print ('Ramachandran plot saved to file: %s' % fig_filename_Ramachandran)"
   ]
  },
  {
   "cell_type": "code",
   "execution_count": 26,
   "id": "9be78df7",
   "metadata": {
    "scrolled": true
   },
   "outputs": [
    {
     "name": "stdout",
     "output_type": "stream",
     "text": [
      "RMSD plot saved to file: AlanineDipeptide_rmsd.eps\n"
     ]
    },
    {
     "data": {
      "image/png": "[encoded data removed]",
      "text/plain": [
       "<Figure size 432x288 with 1 Axes>"
      ]
     },
     "metadata": {
      "needs_background": "light"
     },
     "output_type": "display_data"
    }
   ],
   "source": [
    "# select atoms for RMSD computation below \n",
    "selector = 'name N or name CA or name C'\n",
    "# compute RMSD of the trajectory wrt the reference configuration\n",
    "R = rms.RMSD(u, ref, select=selector)          \n",
    "R.run()\n",
    "# get the RMSD result\n",
    "rmsd = R.results.rmsd.T   # transpose makes it easier for plotting\n",
    "\n",
    "plt.plot(rmsd[0,:], rmsd[2,:], 'k-')\n",
    "plt.xlabel(\"time (fs)\")\n",
    "plt.ylabel(r\"RMSD ($\\AA$)\")\n",
    "\n",
    "if is_savefigs :\n",
    "    fig_filename_rmsd = '%s_rmsd.eps' % sysname \n",
    "    plt.savefig(fig_filename_rmsd)    \n",
    "    print ('RMSD plot saved to file: %s' % fig_filename_rmsd)"
   ]
  },
  {
   "cell_type": "markdown",
   "id": "c57be760",
   "metadata": {},
   "source": [
    "### Make a movie out of trajectory data (experimental)"
   ]
  },
  {
   "cell_type": "code",
   "execution_count": 31,
   "id": "3415d209",
   "metadata": {
    "scrolled": true
   },
   "outputs": [
    {
     "name": "stdout",
     "output_type": "stream",
     "text": [
      "MoviePy - Building file my_movie.gif with imageio.\n"
     ]
    },
    {
     "name": "stderr",
     "output_type": "stream",
     "text": [
      "                                                                                                                                                                      \r"
     ]
    },
    {
     "data": {
      "text/html": [
       "<img src='my_movie.gif'></img>"
      ],
      "text/plain": [
       "<IPython.core.display.HTML object>"
      ]
     },
     "execution_count": 31,
     "metadata": {},
     "output_type": "execute_result"
    }
   ],
   "source": [
    "if is_makemovie :\n",
    "    n_frame = 10\n",
    "    download_dir = '~/Downloads'\n",
    "    if is_makemovie_from_disk :\n",
    "        # to save time for this tutorial, we make a movie with only a few frames\n",
    "        # this for loop will generate many png pictures.\n",
    "        for frame in range(0, n_frame):\n",
    "            # set frame to update coordinates\n",
    "            view.frame = frame\n",
    "            # make sure to let NGL spending enough time to update coordinates\n",
    "            sleep(0.5)\n",
    "            filename = 'tmp{}.png'.format(frame)\n",
    "            print ('frame %d saved to file: %s' % (frame, filename) )\n",
    "            view.download_image(filename=filename)\n",
    "            # make sure to let NGL spending enough time to render before going to next frame\n",
    "            sleep(2.0)\n",
    "\n",
    "    template = '%s/tmp{}.png' % download_dir\n",
    "    # get all (sorted) image files\n",
    "    imagefiles = [template.format(str(i)) for i in range(0, n_frame, 2)]\n",
    "    # make a gif file\n",
    "    frame_per_second = 8\n",
    "    im = mpy.ImageSequenceClip(imagefiles, fps=frame_per_second)\n",
    "    #image_file = '%s/tmp0.png' % download_dir\n",
    "    #im = mpy.ImageClip(image_file, duration=3)\n",
    "    #print (im.get_frame(3).shape)\n",
    "    im.write_gif('my_movie.gif', fps=frame_per_second)\n",
    "\n",
    "display.HTML(\"<img src='my_movie.gif'></img>\")"
   ]
  },
  {
   "cell_type": "code",
   "execution_count": null,
   "id": "7148420c",
   "metadata": {},
   "outputs": [],
   "source": []
  }
 ],
 "metadata": {
  "jupytext": {
   "formats": "ipynb,py:light"
  },
  "kernelspec": {
   "display_name": "Python 3 (ipykernel)",
   "language": "python",
   "name": "python3"
  },
  "language_info": {
   "codemirror_mode": {
    "name": "ipython",
    "version": 3
   },
   "file_extension": ".py",
   "mimetype": "text/x-python",
   "name": "python",
   "nbconvert_exporter": "python",
   "pygments_lexer": "ipython3",
   "version": "3.9.5"
  }
 },
 "nbformat": 4,
 "nbformat_minor": 5
}
