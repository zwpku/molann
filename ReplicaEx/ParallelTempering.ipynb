{
 "cells": [
  {
   "cell_type": "markdown",
   "id": "0a9b405e",
   "metadata": {},
   "source": [
    "## Generate MD trajectory data using OpenMM ad openmmtools packages"
   ]
  },
  {
   "cell_type": "code",
   "execution_count": 1,
   "id": "517a7577",
   "metadata": {},
   "outputs": [
    {
     "name": "stderr",
     "output_type": "stream",
     "text": [
      "Warning: importing 'simtk.openmm' is deprecated.  Import 'openmm' instead.\n"
     ]
    }
   ],
   "source": [
    "# import from openmm and openmmtools\n",
    "from openmm import *\n",
    "from openmm.app import *\n",
    "from openmmtools import testsystems, integrators\n",
    "from openmmtools import mcmc\n",
    "from openmmtools import states\n",
    "from openmmtools.multistate import ParallelTemperingSampler\n",
    "from openmmtools.multistate import MultiStateReporter\n",
    "\n",
    "import math\n",
    "import numpy as np\n",
    "import time\n",
    "import datetime\n",
    "import mdtraj\n",
    "import os\n",
    "import configparser"
   ]
  },
  {
   "cell_type": "code",
   "execution_count": 2,
   "id": "df12dd73",
   "metadata": {
    "lines_to_next_cell": 1
   },
   "outputs": [],
   "source": [
    "# construct a TestSystem object from a PDB file\n",
    "def MyAlanineDipeptideVacuum(pdb_filename):\n",
    "    pdb = PDBFile(pdb_filename)\n",
    "    forcefield = ForceField('amber14-all.xml')\n",
    "    system = forcefield.createSystem(pdb.topology, nonbondedCutoff=2*unit.nanometer, constraints=HBonds)\n",
    "    test_system = testsystems.TestSystem()\n",
    "    test_system.system = system\n",
    "    test_system.positions = pdb.positions\n",
    "    test_system.topology = pdb.topology\n",
    "    return test_system"
   ]
  },
  {
   "cell_type": "markdown",
   "id": "f9efa507",
   "metadata": {},
   "source": [
    "### Set parameters and define the MD system"
   ]
  },
  {
   "cell_type": "code",
   "execution_count": 4,
   "id": "ee076c52",
   "metadata": {},
   "outputs": [
    {
     "ename": "KeyError",
     "evalue": "'Default'",
     "output_type": "error",
     "traceback": [
      "\u001b[0;31m---------------------------------------------------------------------------\u001b[0m",
      "\u001b[0;31mKeyError\u001b[0m                                  Traceback (most recent call last)",
      "\u001b[0;32m/tmp/ipykernel_15854/2036483041.py\u001b[0m in \u001b[0;36m<module>\u001b[0;34m\u001b[0m\n\u001b[1;32m      1\u001b[0m \u001b[0mconfig\u001b[0m \u001b[0;34m=\u001b[0m \u001b[0mconfigparser\u001b[0m\u001b[0;34m.\u001b[0m\u001b[0mConfigParser\u001b[0m\u001b[0;34m(\u001b[0m\u001b[0;34m)\u001b[0m\u001b[0;34m\u001b[0m\u001b[0;34m\u001b[0m\u001b[0m\n\u001b[1;32m      2\u001b[0m \u001b[0mconfig\u001b[0m\u001b[0;34m.\u001b[0m\u001b[0mread\u001b[0m\u001b[0;34m(\u001b[0m\u001b[0;34m'params.cfg'\u001b[0m\u001b[0;34m)\u001b[0m\u001b[0;34m\u001b[0m\u001b[0;34m\u001b[0m\u001b[0m\n\u001b[0;32m----> 3\u001b[0;31m \u001b[0mpdb_filename\u001b[0m \u001b[0;34m=\u001b[0m \u001b[0mconfig\u001b[0m\u001b[0;34m[\u001b[0m\u001b[0;34m'Default'\u001b[0m\u001b[0;34m]\u001b[0m\u001b[0;34m[\u001b[0m\u001b[0;34m'pdb_filename'\u001b[0m\u001b[0;34m]\u001b[0m\u001b[0;34m\u001b[0m\u001b[0;34m\u001b[0m\u001b[0m\n\u001b[0m\u001b[1;32m      4\u001b[0m \u001b[0mn_steps\u001b[0m \u001b[0;34m=\u001b[0m \u001b[0mconfig\u001b[0m\u001b[0;34m[\u001b[0m\u001b[0;34m'Default'\u001b[0m\u001b[0;34m]\u001b[0m\u001b[0;34m.\u001b[0m\u001b[0mgetint\u001b[0m\u001b[0;34m(\u001b[0m\u001b[0;34m'n_steps'\u001b[0m\u001b[0;34m)\u001b[0m \u001b[0;31m# Total simulation steps\u001b[0m\u001b[0;34m\u001b[0m\u001b[0;34m\u001b[0m\u001b[0m\n\u001b[1;32m      5\u001b[0m \u001b[0mtraj_dcd_filename\u001b[0m \u001b[0;34m=\u001b[0m \u001b[0mconfig\u001b[0m\u001b[0;34m[\u001b[0m\u001b[0;34m'Default'\u001b[0m\u001b[0;34m]\u001b[0m\u001b[0;34m[\u001b[0m\u001b[0;34m'traj_dcd_filename'\u001b[0m\u001b[0;34m]\u001b[0m\u001b[0;34m\u001b[0m\u001b[0;34m\u001b[0m\u001b[0m\n",
      "\u001b[0;32m~/miniconda3/lib/python3.9/configparser.py\u001b[0m in \u001b[0;36m__getitem__\u001b[0;34m(self, key)\u001b[0m\n\u001b[1;32m    958\u001b[0m     \u001b[0;32mdef\u001b[0m \u001b[0m__getitem__\u001b[0m\u001b[0;34m(\u001b[0m\u001b[0mself\u001b[0m\u001b[0;34m,\u001b[0m \u001b[0mkey\u001b[0m\u001b[0;34m)\u001b[0m\u001b[0;34m:\u001b[0m\u001b[0;34m\u001b[0m\u001b[0;34m\u001b[0m\u001b[0m\n\u001b[1;32m    959\u001b[0m         \u001b[0;32mif\u001b[0m \u001b[0mkey\u001b[0m \u001b[0;34m!=\u001b[0m \u001b[0mself\u001b[0m\u001b[0;34m.\u001b[0m\u001b[0mdefault_section\u001b[0m \u001b[0;32mand\u001b[0m \u001b[0;32mnot\u001b[0m \u001b[0mself\u001b[0m\u001b[0;34m.\u001b[0m\u001b[0mhas_section\u001b[0m\u001b[0;34m(\u001b[0m\u001b[0mkey\u001b[0m\u001b[0;34m)\u001b[0m\u001b[0;34m:\u001b[0m\u001b[0;34m\u001b[0m\u001b[0;34m\u001b[0m\u001b[0m\n\u001b[0;32m--> 960\u001b[0;31m             \u001b[0;32mraise\u001b[0m \u001b[0mKeyError\u001b[0m\u001b[0;34m(\u001b[0m\u001b[0mkey\u001b[0m\u001b[0;34m)\u001b[0m\u001b[0;34m\u001b[0m\u001b[0;34m\u001b[0m\u001b[0m\n\u001b[0m\u001b[1;32m    961\u001b[0m         \u001b[0;32mreturn\u001b[0m \u001b[0mself\u001b[0m\u001b[0;34m.\u001b[0m\u001b[0m_proxies\u001b[0m\u001b[0;34m[\u001b[0m\u001b[0mkey\u001b[0m\u001b[0;34m]\u001b[0m\u001b[0;34m\u001b[0m\u001b[0;34m\u001b[0m\u001b[0m\n\u001b[1;32m    962\u001b[0m \u001b[0;34m\u001b[0m\u001b[0m\n",
      "\u001b[0;31mKeyError\u001b[0m: 'Default'"
     ]
    }
   ],
   "source": [
    "config = configparser.ConfigParser()\n",
    "config.read('params.cfg')\n",
    "pdb_filename = config['Default']['pdb_filename']\n",
    "n_steps = config['Default'].getint('n_steps') # Total simulation steps\n",
    "traj_dcd_filename = config['Default']['traj_dcd_filename']\n",
    "\n",
    "n_mcmc_step = config['Default'].getint('n_mcmc_step')\n",
    "n_ckpt_interval = config['Default'].getint('n_ckpt_interval')\n",
    "n_replicas = config['Default'].getint('n_replicas')  # Number of temperature replicas.\n",
    "T_min = config['Default'].getfloat('T_min') * unit.kelvin  # Minimum temperature.\n",
    "T_max = config['Default'].getfloat('T_max') * unit.kelvin  # Maximum temperature.\n",
    "is_restart_from_storage = config['Default'].getboolean('is_restart_from_storage')"
   ]
  },
  {
   "cell_type": "code",
   "execution_count": null,
   "id": "b79144f8",
   "metadata": {},
   "outputs": [],
   "source": [
    "suffix_string = datetime.datetime.now().strftime(\"%Y%m%d-%H%M%S\")\n",
    "suffix_string = '1'\n",
    "storage_path = 'tmpfile_%s.nc' % (suffix_string)\n",
    "\n",
    "test_system = MyAlanineDipeptideVacuum(pdb_filename)\n",
    "# Alanatively, one can also use the testsystem provided by openmmtools package.\n",
    "#test_system = testsystems.AlanineDipeptideVacuum()\n",
    "\n",
    "topology = test_system.mdtraj_topology # Topology in the format of mdtraj package."
   ]
  },
  {
   "cell_type": "markdown",
   "id": "d0487ca8",
   "metadata": {},
   "source": [
    "### Generate trajectory using parallel tempering sampler"
   ]
  },
  {
   "cell_type": "code",
   "execution_count": null,
   "id": "fcb8a209",
   "metadata": {
    "scrolled": true
   },
   "outputs": [],
   "source": [
    "if is_restart_from_storage :\n",
    "    simulation = ParallelTemperingSampler.from_storage(storage_path)\n",
    "    print ('restart from checkpoint: %s' % storage_path)\n",
    "    print ('current iteration=%d' % simulation.iteration)\n",
    "else :\n",
    "    print ('filename of checkpoint: %s' % storage_path)      \n",
    "    if os.path.exists(storage_path):\n",
    "        raise FileExistsError('checkpoint already exists!')    \n",
    "    # The following steps are standard.\n",
    "    reference_state = states.ThermodynamicState(system=test_system.system, temperature=T_min)\n",
    "#    move = mcmc.GHMCMove(timestep=2.0*unit.femtoseconds, n_steps=n_mcmc_step)\n",
    "    move = mcmc.LangevinDynamicsMove(timestep=0.5*unit.femtoseconds,    \\\n",
    "                                collision_rate=20.0/unit.picoseconds, n_steps=n_mcmc_step)\n",
    "    simulation = ParallelTemperingSampler(mcmc_moves=move, number_of_iterations=n_steps, \\\n",
    "                                          online_analysis_interval=None)\n",
    "    reporter = MultiStateReporter(storage_path, checkpoint_interval=n_ckpt_interval)\n",
    "    simulation.create(reference_state, states.SamplerState(test_system.positions), reporter, \\\n",
    "                      min_temperature=T_min, max_temperature=T_max, n_temperatures=n_replicas)\n",
    "\n",
    "print ('Simulation starts...', flush=True)\n",
    "start = time.time()\n",
    "simulation.extend(n_steps)\n",
    "print ('final iteration=%d' % simulation.iteration)\n",
    "end = time.time()\n",
    "print ( 'Simulation ends, %d sec. elapsed.' % (end - start) )\n",
    "\n",
    "# delete the sampler to avoid that the kernel of Jupyter notebook becomes dead\n",
    "del simulation"
   ]
  },
  {
   "cell_type": "markdown",
   "id": "96746376",
   "metadata": {},
   "source": [
    "### Save trajectory data in DCD format"
   ]
  },
  {
   "cell_type": "code",
   "execution_count": null,
   "id": "84c252de",
   "metadata": {
    "lines_to_next_cell": 0
   },
   "outputs": [],
   "source": [
    "start = time.time()\n",
    "# Read the checkpoint file and get the trajectory.\n",
    "# See the source file of the class Multistatereporter for details.\n",
    "reporter = MultiStateReporter(storage_path, 'r', checkpoint_interval=n_ckpt_interval)\n",
    "storage = reporter._storage_dict['checkpoint']\n",
    "x = storage.variables['positions'][:,0,:,:].astype(np.float64)\n",
    "reporter.close()\n",
    "#energy_list = reporter.read_energies()[0][:,0,0]\n",
    "#print ('List of energies:', energy_list)\n",
    "\n",
    "# construct a Trajectory object \n",
    "traj = mdtraj.Trajectory(x, topology)\n",
    "# save the trajectory in dcd format \n",
    "traj.save_dcd(traj_dcd_filename)\n",
    "end = time.time()\n",
    "\n",
    "print ( 'trajectory (of length %d) saved to file: %s.\\n%d sec. elapsed.' \\\n",
    "       % (traj.n_frames, traj_dcd_filename, end - start) )"
   ]
  },
  {
   "cell_type": "code",
   "execution_count": null,
   "id": "57339b7e",
   "metadata": {},
   "outputs": [],
   "source": []
  }
 ],
 "metadata": {
  "jupytext": {
   "executable": "/usr/bin/env python",
   "formats": "ipynb,py:light"
  },
  "kernelspec": {
   "display_name": "Python 3 (ipykernel)",
   "language": "python",
   "name": "python3"
  },
  "language_info": {
   "codemirror_mode": {
    "name": "ipython",
    "version": 3
   },
   "file_extension": ".py",
   "mimetype": "text/x-python",
   "name": "python",
   "nbconvert_exporter": "python",
   "pygments_lexer": "ipython3",
   "version": "3.9.5"
  }
 },
 "nbformat": 4,
 "nbformat_minor": 5
}
