{
 "cells": [
  {
   "cell_type": "markdown",
   "id": "0a9b405e",
   "metadata": {},
   "source": [
    "## Generate MD trajectory data using OpenMM ad openmmtools packages"
   ]
  },
  {
   "cell_type": "code",
   "execution_count": null,
   "id": "517a7577",
   "metadata": {},
   "outputs": [],
   "source": [
    "# import from openmm and openmmtools\n",
    "from openmm import *\n",
    "from openmm.app import *\n",
    "from openmmtools import testsystems, integrators\n",
    "from openmmtools import mcmc\n",
    "from openmmtools import states\n",
    "from openmmtools.multistate import ParallelTemperingSampler\n",
    "from openmmtools.multistate import MultiStateReporter\n",
    "\n",
    "import math\n",
    "from random import random, randint\n",
    "import tempfile\n",
    "import numpy as np\n",
    "import time\n",
    "import datetime\n",
    "import mdtraj\n",
    "import os\n",
    "import warnings"
   ]
  },
  {
   "cell_type": "code",
   "execution_count": null,
   "id": "df12dd73",
   "metadata": {
    "lines_to_next_cell": 1
   },
   "outputs": [],
   "source": [
    "# construct a TestSystem object from a PDB file\n",
    "def MyAlanineDipeptideVacuum(pdb_filename):\n",
    "    pdb = PDBFile(pdb_filename)\n",
    "    forcefield = ForceField('amber14-all.xml')\n",
    "    system = forcefield.createSystem(pdb.topology, nonbondedCutoff=2*unit.nanometer, constraints=HBonds)\n",
    "    test_system = testsystems.TestSystem()\n",
    "    test_system.system = system\n",
    "    test_system.positions = pdb.positions\n",
    "    test_system.topology = pdb.topology\n",
    "    return test_system"
   ]
  },
  {
   "cell_type": "markdown",
   "id": "f9efa507",
   "metadata": {},
   "source": [
    "### Set parameters and define the MD system"
   ]
  },
  {
   "cell_type": "code",
   "execution_count": null,
   "id": "b79144f8",
   "metadata": {},
   "outputs": [],
   "source": [
    "n_steps = 500 # Total simulation steps, i.e. number of states.\n",
    "n_ghmc_step = 10\n",
    "n_ckpt_interval = 10\n",
    "n_replicas = 1  # Number of temperature replicas.\n",
    "T_min = 298.0 * unit.kelvin  # Minimum temperature.\n",
    "T_max = 500.0 * unit.kelvin  # Maximum temperature.\n",
    "is_read_from_storage = True\n",
    " \n",
    "suffix_string = \"1\"\n",
    "storage_path = 'tmpfile_%s.nc' % suffix_string\n",
    "if is_read_from_storage == False:\n",
    "    if os.path.exists(storage_path):\n",
    "        os.remove(storage_path)\n",
    "        warnings.warn(\"storage file already exists: %s, and is deleted.\" % storage_path)\n",
    "  \n",
    "# This PDB file describes AlanineDipeptide in vacuum. \n",
    "# It is from the OpenMM source code.\n",
    "pdb_filename = './AlanineDipeptideOpenMM/vacuum.pdb'\n",
    "test_system = MyAlanineDipeptideVacuum(pdb_filename)\n",
    "# Alanatively, one can also use the testsystem provided by openmmtools package.\n",
    "#test_system = testsystems.AlanineDipeptideVacuum()\n",
    "\n",
    "topology = test_system.mdtraj_topology # Topology in the format of mdtraj package."
   ]
  },
  {
   "cell_type": "markdown",
   "id": "d0487ca8",
   "metadata": {},
   "source": [
    "### Generate trajectory using parallel tempering sampler"
   ]
  },
  {
   "cell_type": "code",
   "execution_count": null,
   "id": "fcb8a209",
   "metadata": {
    "scrolled": true
   },
   "outputs": [],
   "source": [
    "if is_read_from_storage :\n",
    "    simulation = ParallelTemperingSampler.from_storage(storage_path)\n",
    "    print ('restart from checkpoint: %s' % storage_path)\n",
    "    print ('current iteration=%d' % simulation.iteration)\n",
    "else :\n",
    "    # The following steps are standard.\n",
    "    print ('filename of checkpoints: %s' % storage_path)      \n",
    "    reference_state = states.ThermodynamicState(system=test_system.system, temperature=T_min)\n",
    "    move = mcmc.GHMCMove(timestep=2.0*unit.femtoseconds, n_steps=n_ghmc_step)\n",
    "    simulation = ParallelTemperingSampler(mcmc_moves=move, number_of_iterations=n_steps, online_analysis_interval=None)\n",
    "    reporter = MultiStateReporter(storage_path, checkpoint_interval=n_ckpt_interval)\n",
    "    simulation.create(reference_state, states.SamplerState(test_system.positions), reporter, min_temperature=T_min, max_temperature=T_max, n_temperatures=n_replicas)\n",
    "\n",
    "print ('Simulation starts...')\n",
    "start = time.time()\n",
    "simulation.extend(n_steps)\n",
    "print ('final iteration=%d' % simulation.iteration)\n",
    "end = time.time()\n",
    "print ( 'Simulation ends, %d sec. elapsed.' % (end - start) )"
   ]
  },
  {
   "cell_type": "markdown",
   "id": "96746376",
   "metadata": {},
   "source": [
    "### Save trajectory data in DCD format"
   ]
  },
  {
   "cell_type": "code",
   "execution_count": null,
   "id": "84c252de",
   "metadata": {},
   "outputs": [],
   "source": [
    "start = time.time()\n",
    "# Read the checkpoint file and get the trajectory.\n",
    "# See the source file of the class Multistatereporter for details.\n",
    "reporter = MultiStateReporter(storage_path, 'r', checkpoint_interval=n_ckpt_interval)\n",
    "storage = reporter._storage_dict['checkpoint']\n",
    "x = storage.variables['positions'][:,0,:,:].astype(np.float64)\n",
    "\n",
    "#energy_list = reporter.read_energies()[0][:,0,0]\n",
    "#print ('List of energies:', energy_list)\n",
    "\n",
    "# construct a Trajectory object \n",
    "traj = mdtraj.Trajectory(x, topology)\n",
    "# save the trajectory in dcd format \n",
    "traj_filename = \"./traj.dcd\"\n",
    "traj.save_dcd(traj_filename)\n",
    "end = time.time()\n",
    "\n",
    "print ( 'trajectory (of length %d) saved to file: %s.\\n%d sec. elapsed.' % (traj.n_frames, traj_filename, end - start) )"
   ]
  },
  {
   "cell_type": "code",
   "execution_count": null,
   "id": "62e7cf6b",
   "metadata": {},
   "outputs": [],
   "source": []
  }
 ],
 "metadata": {
  "jupytext": {
   "cell_metadata_filter": "-all",
   "executable": "/usr/bin/env python",
   "formats": "ipynb,auto:light",
   "main_language": "python",
   "notebook_metadata_filter": "-all"
  },
  "kernelspec": {
   "display_name": "Python 3 (ipykernel)",
   "language": "python",
   "name": "python3"
  },
  "language_info": {
   "codemirror_mode": {
    "name": "ipython",
    "version": 3
   },
   "file_extension": ".py",
   "mimetype": "text/x-python",
   "name": "python",
   "nbconvert_exporter": "python",
   "pygments_lexer": "ipython3",
   "version": "3.9.5"
  }
 },
 "nbformat": 4,
 "nbformat_minor": 5
}
