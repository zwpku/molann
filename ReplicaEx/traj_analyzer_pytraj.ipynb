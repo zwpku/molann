{
 "cells": [
  {
   "cell_type": "code",
   "execution_count": 1,
   "id": "d00c6979",
   "metadata": {},
   "outputs": [
    {
     "data": {
      "application/vnd.jupyter.widget-view+json": {
       "model_id": "82d164cd9697496f9ddb85e7c7ff8d25",
       "version_major": 2,
       "version_minor": 0
      },
      "text/plain": []
     },
     "metadata": {},
     "output_type": "display_data"
    }
   ],
   "source": [
    "import pytraj as pt\n",
    "from matplotlib import pyplot as plt\n",
    "import seaborn as snb\n",
    "import nglview"
   ]
  },
  {
   "cell_type": "code",
   "execution_count": 2,
   "id": "74b443a1",
   "metadata": {
    "scrolled": true
   },
   "outputs": [
    {
     "name": "stdout",
     "output_type": "stream",
     "text": [
      "pytraj.Trajectory, 2001 frames: \n",
      "Size: 0.000984 (GB)\n",
      "<Topology: 22 atoms, 3 residues, 1 mols, non-PBC>\n",
      "           \n",
      "['ACE', 'ALA', 'NME']\n"
     ]
    },
    {
     "data": {
      "application/vnd.jupyter.widget-view+json": {
       "model_id": "c6f00db527024f95ab76c86127892eb9",
       "version_major": 2,
       "version_minor": 0
      },
      "text/plain": [
       "NGLWidget(max_frame=2000)"
      ]
     },
     "metadata": {},
     "output_type": "display_data"
    }
   ],
   "source": [
    "traj = pt.load('traj.dcd', 'AlanineDipeptideOpenMM/vacuum.pdb')\n",
    "print (traj)\n",
    "print([res.name for res in traj.top.residues])\n",
    "\n",
    "nglview.show_pytraj(traj)"
   ]
  },
  {
   "cell_type": "code",
   "execution_count": 3,
   "id": "3006f0c8",
   "metadata": {
    "scrolled": true
   },
   "outputs": [
    {
     "data": {
      "text/html": [
       "<div>\n",
       "<style scoped>\n",
       "    .dataframe tbody tr th:only-of-type {\n",
       "        vertical-align: middle;\n",
       "    }\n",
       "\n",
       "    .dataframe tbody tr th {\n",
       "        vertical-align: top;\n",
       "    }\n",
       "\n",
       "    .dataframe thead th {\n",
       "        text-align: right;\n",
       "    }\n",
       "</style>\n",
       "<table border=\"1\" class=\"dataframe\">\n",
       "  <thead>\n",
       "    <tr style=\"text-align: right;\">\n",
       "      <th></th>\n",
       "      <th>phi_2</th>\n",
       "      <th>psi_2</th>\n",
       "    </tr>\n",
       "  </thead>\n",
       "  <tbody>\n",
       "    <tr>\n",
       "      <th>0</th>\n",
       "      <td>180.000000</td>\n",
       "      <td>180.000000</td>\n",
       "    </tr>\n",
       "    <tr>\n",
       "      <th>1</th>\n",
       "      <td>-179.158258</td>\n",
       "      <td>179.816590</td>\n",
       "    </tr>\n",
       "    <tr>\n",
       "      <th>2</th>\n",
       "      <td>-177.971329</td>\n",
       "      <td>178.826983</td>\n",
       "    </tr>\n",
       "    <tr>\n",
       "      <th>3</th>\n",
       "      <td>-176.798208</td>\n",
       "      <td>177.325580</td>\n",
       "    </tr>\n",
       "    <tr>\n",
       "      <th>4</th>\n",
       "      <td>-176.174759</td>\n",
       "      <td>176.299724</td>\n",
       "    </tr>\n",
       "    <tr>\n",
       "      <th>5</th>\n",
       "      <td>-175.978337</td>\n",
       "      <td>175.669522</td>\n",
       "    </tr>\n",
       "  </tbody>\n",
       "</table>\n",
       "</div>"
      ],
      "text/plain": [
       "        phi_2       psi_2\n",
       "0  180.000000  180.000000\n",
       "1 -179.158258  179.816590\n",
       "2 -177.971329  178.826983\n",
       "3 -176.798208  177.325580\n",
       "4 -176.174759  176.299724\n",
       "5 -175.978337  175.669522"
      ]
     },
     "execution_count": 3,
     "metadata": {},
     "output_type": "execute_result"
    }
   ],
   "source": [
    "phi_psi = pt.multidihedral(traj, resrange=[1,], dihedral_types='psi phi', dtype='dataframe')\n",
    "phi_psi.head(6)"
   ]
  },
  {
   "cell_type": "code",
   "execution_count": 4,
   "id": "0d0e5ca8",
   "metadata": {
    "scrolled": true
   },
   "outputs": [
    {
     "name": "stderr",
     "output_type": "stream",
     "text": [
      "/home/wei/miniconda3/lib/python3.9/site-packages/seaborn/_decorators.py:36: FutureWarning: Pass the following variables as keyword args: x, y. From version 0.12, the only valid positional argument will be `data`, and passing other arguments without an explicit keyword will result in an error or misinterpretation.\n",
      "  warnings.warn(\n"
     ]
    },
    {
     "data": {
      "text/plain": [
       "<seaborn.axisgrid.JointGrid at 0x7ff68c7c5a30>"
      ]
     },
     "execution_count": 4,
     "metadata": {},
     "output_type": "execute_result"
    },
    {
     "data": {
      "image/png": "[encoded data removed]",
      "text/plain": [
       "<Figure size 432x432 with 3 Axes>"
      ]
     },
     "metadata": {
      "needs_background": "light"
     },
     "output_type": "display_data"
    }
   ],
   "source": [
    "snb.jointplot(phi_psi['phi_2'], phi_psi['psi_2'], kind='scatter')\n",
    "#plt.savefig('phipsi.png')"
   ]
  },
  {
   "cell_type": "code",
   "execution_count": 5,
   "id": "a7adf410",
   "metadata": {},
   "outputs": [
    {
     "data": {
      "text/plain": [
       "pytraj.Trajectory, 1 frames: \n",
       "Size: 0.000000 (GB)\n",
       "<Topology: 22 atoms, 3 residues, 1 mols, non-PBC>\n",
       "           "
      ]
     },
     "execution_count": 5,
     "metadata": {},
     "output_type": "execute_result"
    }
   ],
   "source": [
    "ref_from_pdb = pt.load('AlanineDipeptideOpenMM/vacuum.pdb')\n",
    "ref_from_pdb\n"
   ]
  },
  {
   "cell_type": "code",
   "execution_count": 7,
   "id": "10bd599f",
   "metadata": {
    "scrolled": true
   },
   "outputs": [
    {
     "name": "stdout",
     "output_type": "stream",
     "text": [
      "(2001,)\n"
     ]
    },
    {
     "data": {
      "text/plain": [
       "Text(0, 0.5, 'RMSD (angstrom)')"
      ]
     },
     "execution_count": 7,
     "metadata": {},
     "output_type": "execute_result"
    },
    {
     "data": {
      "image/png": "[encoded data removed]",
      "text/plain": [
       "<Figure size 432x288 with 1 Axes>"
      ]
     },
     "metadata": {
      "needs_background": "light"
     },
     "output_type": "display_data"
    }
   ],
   "source": [
    "rmsd_to_ref = pt.rmsd(traj, ref=ref_from_pdb, mask='@N,CA,C')\n",
    "print (rmsd_to_ref.shape)\n",
    "plt.plot(rmsd_to_ref)\n",
    "plt.xlabel('Time (ps)')\n",
    "plt.ylabel('RMSD (angstrom)')"
   ]
  },
  {
   "cell_type": "code",
   "execution_count": null,
   "id": "82ce2b16",
   "metadata": {},
   "outputs": [],
   "source": []
  }
 ],
 "metadata": {
  "kernelspec": {
   "display_name": "Python 3 (ipykernel)",
   "language": "python",
   "name": "python3"
  },
  "language_info": {
   "codemirror_mode": {
    "name": "ipython",
    "version": 3
   },
   "file_extension": ".py",
   "mimetype": "text/x-python",
   "name": "python",
   "nbconvert_exporter": "python",
   "pygments_lexer": "ipython3",
   "version": "3.9.5"
  }
 },
 "nbformat": 4,
 "nbformat_minor": 5
}
